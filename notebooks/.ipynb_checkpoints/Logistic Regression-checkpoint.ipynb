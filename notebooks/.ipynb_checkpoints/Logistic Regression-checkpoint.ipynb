{
 "cells": [
  {
   "cell_type": "code",
   "execution_count": 2,
   "metadata": {},
   "outputs": [],
   "source": [
    "import pandas as pd\n",
    "import numpy as np\n",
    "import copy\n",
    "\n",
    "from sklearn.model_selection import train_test_split, cross_val_score\n",
    "from sklearn.preprocessing import scale, normalize\n",
    "from sklearn.linear_model import LogisticRegression\n",
    "from sklearn.metrics import roc_auc_score, classification_report\n",
    "from imblearn.over_sampling import ADASYN\n",
    "from hyperopt import hp, tpe, fmin, STATUS_OK, Trials\n",
    "\n",
    "import seaborn as sns\n",
    "import matplotlib\n",
    "import matplotlib.pyplot as plt\n",
    "\n",
    "%matplotlib inline\n",
    "\n",
    "sns.set(style ='ticks')"
   ]
  },
  {
   "cell_type": "code",
   "execution_count": null,
   "metadata": {},
   "outputs": [],
   "source": [
    "# def merge_features(dont_run_this):\n",
    "#     data_dict = {}\n",
    "#     for i in range(10):\n",
    "#         file_name = '../data/features/part-0000'+str(i)+'-e6120af0-10c2-4248-97c4-81baf4304e5c-c000.csv'\n",
    "#         data_dict['part_'+str(i)] = pd.read_csv(file_name)\n",
    "\n",
    "#     data = copy.deepcopy(data_dict['part_0'])\n",
    "#     for i in range(1, 10):\n",
    "#         data = data.append(data_dict['part_'+str(i)])\n",
    "#     data = data.sort_values(by = ['bookingID', 'second']).reset_index().drop(columns = ['index'])\n",
    "#     data.to_csv('../data/merged_data.csv')\n",
    "\n",
    "def plot_graphs(df):\n",
    "    for col in df.columns:\n",
    "        plt.figure(figsize = (15,2))\n",
    "        ax1 = sns.distplot(df[col][:100])\n",
    "        ax1.set_title('Distribution Plot of '+col.title())\n",
    "        ax1.set_ylabel('Density')\n",
    "        plt.show()"
   ]
  }
 ],
 "metadata": {
  "kernelspec": {
   "display_name": "Python 3",
   "language": "python",
   "name": "python3"
  },
  "language_info": {
   "codemirror_mode": {
    "name": "ipython",
    "version": 3
   },
   "file_extension": ".py",
   "mimetype": "text/x-python",
   "name": "python",
   "nbconvert_exporter": "python",
   "pygments_lexer": "ipython3",
   "version": "3.7.3"
  }
 },
 "nbformat": 4,
 "nbformat_minor": 2
}
